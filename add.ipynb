{
 "cells": [
  {
   "cell_type": "code",
   "execution_count": 3,
   "metadata": {},
   "outputs": [],
   "source": [
    "from selenium import webdriver\n",
    "from selenium.webdriver.chrome.options import Options\n",
    "from selenium.webdriver.common.by import By\n",
    "from selenium.webdriver.common.keys import Keys"
   ]
  },
  {
   "cell_type": "code",
   "execution_count": 6,
   "metadata": {},
   "outputs": [],
   "source": [
    "# Get the path to chromedriver in the current directory\n",
    "chrome_driver_path = \"./chromedriver\"\n",
    "options = Options()\n",
    "webdriver.Chrome(options=options)\n",
    "\n",
    "options = Options()\n",
    "options.add_argument('--disable-gpu')\n",
    "options.add_argument('--headless')\n",
    "\n",
    "driver = webdriver.Chrome()\n",
    "driver.get(\"https://hh.ru/account/login?customDomain=1\")"
   ]
  },
  {
   "cell_type": "code",
   "execution_count": 18,
   "metadata": {},
   "outputs": [],
   "source": [
    "pass_button = driver.find_elements(By.CLASS_NAME, 'bloko-link.bloko-link_pseudo')\n",
    "pass_button[1].click()"
   ]
  },
  {
   "cell_type": "code",
   "execution_count": 74,
   "metadata": {},
   "outputs": [
    {
     "name": "stdout",
     "output_type": "stream",
     "text": [
      "4\n"
     ]
    }
   ],
   "source": [
    "search = driver.find_elements(By.CLASS_NAME, 'bloko-input-text')\n",
    "print(len(search))\n",
    "search[1].send_keys('rabotastar1@gmail.com')\n",
    "search[2].send_keys('199225199225')"
   ]
  },
  {
   "cell_type": "code",
   "execution_count": 76,
   "metadata": {},
   "outputs": [],
   "source": [
    "search[2].send_keys(Keys.ENTER)"
   ]
  },
  {
   "cell_type": "code",
   "execution_count": 77,
   "metadata": {},
   "outputs": [],
   "source": [
    "driver.get('https://hh.ru/applicant/vacancy_response?vacancyId=85928412')"
   ]
  },
  {
   "cell_type": "code",
   "execution_count": 78,
   "metadata": {},
   "outputs": [],
   "source": [
    "driver.get('https://hh.ru/applicant/vacancy_response?vacancyId=85969320')"
   ]
  },
  {
   "cell_type": "markdown",
   "metadata": {},
   "source": [
    "Закончился Селениум, начинается Pandas"
   ]
  },
  {
   "cell_type": "code",
   "execution_count": 14,
   "metadata": {},
   "outputs": [],
   "source": [
    "import pandas as pd"
   ]
  },
  {
   "cell_type": "code",
   "execution_count": 15,
   "metadata": {},
   "outputs": [],
   "source": [
    "df = pd.read_excel('main3.xlsx')"
   ]
  },
  {
   "cell_type": "code",
   "execution_count": 16,
   "metadata": {},
   "outputs": [
    {
     "data": {
      "text/html": [
       "<div>\n",
       "<style scoped>\n",
       "    .dataframe tbody tr th:only-of-type {\n",
       "        vertical-align: middle;\n",
       "    }\n",
       "\n",
       "    .dataframe tbody tr th {\n",
       "        vertical-align: top;\n",
       "    }\n",
       "\n",
       "    .dataframe thead th {\n",
       "        text-align: right;\n",
       "    }\n",
       "</style>\n",
       "<table border=\"1\" class=\"dataframe\">\n",
       "  <thead>\n",
       "    <tr style=\"text-align: right;\">\n",
       "      <th></th>\n",
       "      <th>Unnamed: 0</th>\n",
       "      <th>id</th>\n",
       "      <th>premium</th>\n",
       "      <th>name</th>\n",
       "      <th>has_test</th>\n",
       "      <th>response_letter_required</th>\n",
       "      <th>response_url</th>\n",
       "      <th>sort_point_distance</th>\n",
       "      <th>published_at</th>\n",
       "      <th>created_at</th>\n",
       "      <th>...</th>\n",
       "      <th>address_metro_lat</th>\n",
       "      <th>address_metro_lng</th>\n",
       "      <th>address_metro_nan</th>\n",
       "      <th>employer_logo_urls_None</th>\n",
       "      <th>employer_logo_urls_240</th>\n",
       "      <th>employer_logo_urls_90</th>\n",
       "      <th>employer_logo_urls_original</th>\n",
       "      <th>employer_logo_urls_nan</th>\n",
       "      <th>address_metro_stations_None</th>\n",
       "      <th>address_metro_stations_nan</th>\n",
       "    </tr>\n",
       "  </thead>\n",
       "  <tbody>\n",
       "    <tr>\n",
       "      <th>0</th>\n",
       "      <td>0</td>\n",
       "      <td>86048217</td>\n",
       "      <td>False</td>\n",
       "      <td>Дежурный аналитик</td>\n",
       "      <td>False</td>\n",
       "      <td>False</td>\n",
       "      <td>NaN</td>\n",
       "      <td>NaN</td>\n",
       "      <td>2023-08-31T11:19:45+0300</td>\n",
       "      <td>2023-08-31T11:19:45+0300</td>\n",
       "      <td>...</td>\n",
       "      <td>55.803831</td>\n",
       "      <td>37.402405</td>\n",
       "      <td>NaN</td>\n",
       "      <td>False</td>\n",
       "      <td>https://hhcdn.ru/employer-logo/4154421.jpeg</td>\n",
       "      <td>https://hhcdn.ru/employer-logo/4154420.jpeg</td>\n",
       "      <td>https://hhcdn.ru/employer-logo-original/928465...</td>\n",
       "      <td>NaN</td>\n",
       "      <td>False</td>\n",
       "      <td>NaN</td>\n",
       "    </tr>\n",
       "    <tr>\n",
       "      <th>1</th>\n",
       "      <td>1</td>\n",
       "      <td>85901279</td>\n",
       "      <td>False</td>\n",
       "      <td>Стажер, Аналитик данных (Python)</td>\n",
       "      <td>False</td>\n",
       "      <td>False</td>\n",
       "      <td>NaN</td>\n",
       "      <td>NaN</td>\n",
       "      <td>2023-08-31T14:07:01+0300</td>\n",
       "      <td>2023-08-31T14:07:01+0300</td>\n",
       "      <td>...</td>\n",
       "      <td>NaN</td>\n",
       "      <td>NaN</td>\n",
       "      <td>NaN</td>\n",
       "      <td>False</td>\n",
       "      <td>https://hhcdn.ru/employer-logo/4170113.jpeg</td>\n",
       "      <td>https://hhcdn.ru/employer-logo/4170112.jpeg</td>\n",
       "      <td>https://hhcdn.ru/employer-logo-original/932390...</td>\n",
       "      <td>NaN</td>\n",
       "      <td>False</td>\n",
       "      <td>NaN</td>\n",
       "    </tr>\n",
       "    <tr>\n",
       "      <th>2</th>\n",
       "      <td>2</td>\n",
       "      <td>86070923</td>\n",
       "      <td>False</td>\n",
       "      <td>Junior аналитик</td>\n",
       "      <td>False</td>\n",
       "      <td>False</td>\n",
       "      <td>NaN</td>\n",
       "      <td>NaN</td>\n",
       "      <td>2023-08-31T16:03:32+0300</td>\n",
       "      <td>2023-08-31T16:03:32+0300</td>\n",
       "      <td>...</td>\n",
       "      <td>NaN</td>\n",
       "      <td>NaN</td>\n",
       "      <td>NaN</td>\n",
       "      <td>False</td>\n",
       "      <td>https://hhcdn.ru/employer-logo/5568781.png</td>\n",
       "      <td>https://hhcdn.ru/employer-logo/5568780.png</td>\n",
       "      <td>https://hhcdn.ru/employer-logo-original/986992...</td>\n",
       "      <td>NaN</td>\n",
       "      <td>True</td>\n",
       "      <td>NaN</td>\n",
       "    </tr>\n",
       "    <tr>\n",
       "      <th>3</th>\n",
       "      <td>3</td>\n",
       "      <td>86041615</td>\n",
       "      <td>False</td>\n",
       "      <td>Аналитик-стажер</td>\n",
       "      <td>False</td>\n",
       "      <td>False</td>\n",
       "      <td>NaN</td>\n",
       "      <td>NaN</td>\n",
       "      <td>2023-08-31T10:17:50+0300</td>\n",
       "      <td>2023-08-31T10:17:50+0300</td>\n",
       "      <td>...</td>\n",
       "      <td>55.732278</td>\n",
       "      <td>37.665325</td>\n",
       "      <td>NaN</td>\n",
       "      <td>False</td>\n",
       "      <td>https://hhcdn.ru/employer-logo/2982497.png</td>\n",
       "      <td>https://hhcdn.ru/employer-logo/2982496.png</td>\n",
       "      <td>https://hhcdn.ru/employer-logo-original/635336...</td>\n",
       "      <td>NaN</td>\n",
       "      <td>False</td>\n",
       "      <td>NaN</td>\n",
       "    </tr>\n",
       "    <tr>\n",
       "      <th>4</th>\n",
       "      <td>4</td>\n",
       "      <td>86038927</td>\n",
       "      <td>False</td>\n",
       "      <td>Экономист - аналитик строительного направления...</td>\n",
       "      <td>False</td>\n",
       "      <td>False</td>\n",
       "      <td>NaN</td>\n",
       "      <td>NaN</td>\n",
       "      <td>2023-08-31T09:48:06+0300</td>\n",
       "      <td>2023-08-31T09:48:06+0300</td>\n",
       "      <td>...</td>\n",
       "      <td>NaN</td>\n",
       "      <td>NaN</td>\n",
       "      <td>NaN</td>\n",
       "      <td>False</td>\n",
       "      <td>https://hhcdn.ru/employer-logo/5911618.png</td>\n",
       "      <td>https://hhcdn.ru/employer-logo/5911617.png</td>\n",
       "      <td>https://hhcdn.ru/employer-logo-original/107274...</td>\n",
       "      <td>NaN</td>\n",
       "      <td>False</td>\n",
       "      <td>NaN</td>\n",
       "    </tr>\n",
       "  </tbody>\n",
       "</table>\n",
       "<p>5 rows × 98 columns</p>\n",
       "</div>"
      ],
      "text/plain": [
       "   Unnamed: 0        id  premium  \\\n",
       "0           0  86048217    False   \n",
       "1           1  85901279    False   \n",
       "2           2  86070923    False   \n",
       "3           3  86041615    False   \n",
       "4           4  86038927    False   \n",
       "\n",
       "                                                name  has_test  \\\n",
       "0                                  Дежурный аналитик     False   \n",
       "1                   Стажер, Аналитик данных (Python)     False   \n",
       "2                                    Junior аналитик     False   \n",
       "3                                    Аналитик-стажер     False   \n",
       "4  Экономист - аналитик строительного направления...     False   \n",
       "\n",
       "   response_letter_required  response_url  sort_point_distance  \\\n",
       "0                     False           NaN                  NaN   \n",
       "1                     False           NaN                  NaN   \n",
       "2                     False           NaN                  NaN   \n",
       "3                     False           NaN                  NaN   \n",
       "4                     False           NaN                  NaN   \n",
       "\n",
       "               published_at                created_at  ...  address_metro_lat  \\\n",
       "0  2023-08-31T11:19:45+0300  2023-08-31T11:19:45+0300  ...          55.803831   \n",
       "1  2023-08-31T14:07:01+0300  2023-08-31T14:07:01+0300  ...                NaN   \n",
       "2  2023-08-31T16:03:32+0300  2023-08-31T16:03:32+0300  ...                NaN   \n",
       "3  2023-08-31T10:17:50+0300  2023-08-31T10:17:50+0300  ...          55.732278   \n",
       "4  2023-08-31T09:48:06+0300  2023-08-31T09:48:06+0300  ...                NaN   \n",
       "\n",
       "  address_metro_lng  address_metro_nan employer_logo_urls_None  \\\n",
       "0         37.402405                NaN                   False   \n",
       "1               NaN                NaN                   False   \n",
       "2               NaN                NaN                   False   \n",
       "3         37.665325                NaN                   False   \n",
       "4               NaN                NaN                   False   \n",
       "\n",
       "                        employer_logo_urls_240  \\\n",
       "0  https://hhcdn.ru/employer-logo/4154421.jpeg   \n",
       "1  https://hhcdn.ru/employer-logo/4170113.jpeg   \n",
       "2   https://hhcdn.ru/employer-logo/5568781.png   \n",
       "3   https://hhcdn.ru/employer-logo/2982497.png   \n",
       "4   https://hhcdn.ru/employer-logo/5911618.png   \n",
       "\n",
       "                         employer_logo_urls_90  \\\n",
       "0  https://hhcdn.ru/employer-logo/4154420.jpeg   \n",
       "1  https://hhcdn.ru/employer-logo/4170112.jpeg   \n",
       "2   https://hhcdn.ru/employer-logo/5568780.png   \n",
       "3   https://hhcdn.ru/employer-logo/2982496.png   \n",
       "4   https://hhcdn.ru/employer-logo/5911617.png   \n",
       "\n",
       "                         employer_logo_urls_original  employer_logo_urls_nan  \\\n",
       "0  https://hhcdn.ru/employer-logo-original/928465...                     NaN   \n",
       "1  https://hhcdn.ru/employer-logo-original/932390...                     NaN   \n",
       "2  https://hhcdn.ru/employer-logo-original/986992...                     NaN   \n",
       "3  https://hhcdn.ru/employer-logo-original/635336...                     NaN   \n",
       "4  https://hhcdn.ru/employer-logo-original/107274...                     NaN   \n",
       "\n",
       "   address_metro_stations_None  address_metro_stations_nan  \n",
       "0                        False                         NaN  \n",
       "1                        False                         NaN  \n",
       "2                         True                         NaN  \n",
       "3                        False                         NaN  \n",
       "4                        False                         NaN  \n",
       "\n",
       "[5 rows x 98 columns]"
      ]
     },
     "execution_count": 16,
     "metadata": {},
     "output_type": "execute_result"
    }
   ],
   "source": [
    "df.head(5)"
   ]
  },
  {
   "cell_type": "code",
   "execution_count": 19,
   "metadata": {},
   "outputs": [
    {
     "name": "stdout",
     "output_type": "stream",
     "text": [
      "float64\n"
     ]
    }
   ],
   "source": [
    "print(df['salary_from'].dtype)\n"
   ]
  }
 ],
 "metadata": {
  "kernelspec": {
   "display_name": "Python 3",
   "language": "python",
   "name": "python3"
  },
  "language_info": {
   "codemirror_mode": {
    "name": "ipython",
    "version": 3
   },
   "file_extension": ".py",
   "mimetype": "text/x-python",
   "name": "python",
   "nbconvert_exporter": "python",
   "pygments_lexer": "ipython3",
   "version": "3.11.1"
  },
  "orig_nbformat": 4
 },
 "nbformat": 4,
 "nbformat_minor": 2
}
