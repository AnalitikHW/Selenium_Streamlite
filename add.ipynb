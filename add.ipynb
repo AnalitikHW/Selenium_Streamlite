{
 "cells": [
  {
   "cell_type": "code",
   "execution_count": 3,
   "metadata": {},
   "outputs": [],
   "source": [
    "from selenium import webdriver\n",
    "from selenium.webdriver.chrome.options import Options\n",
    "from selenium.webdriver.common.by import By\n",
    "from selenium.webdriver.common.keys import Keys"
   ]
  },
  {
   "cell_type": "code",
   "execution_count": 6,
   "metadata": {},
   "outputs": [],
   "source": [
    "# Get the path to chromedriver in the current directory\n",
    "chrome_driver_path = \"./chromedriver\"\n",
    "options = Options()\n",
    "webdriver.Chrome(options=options)\n",
    "\n",
    "options = Options()\n",
    "options.add_argument('--disable-gpu')\n",
    "options.add_argument('--headless')\n",
    "\n",
    "driver = webdriver.Chrome()\n",
    "driver.get(\"https://hh.ru/account/login?customDomain=1\")"
   ]
  },
  {
   "cell_type": "code",
   "execution_count": 18,
   "metadata": {},
   "outputs": [],
   "source": [
    "pass_button = driver.find_elements(By.CLASS_NAME, 'bloko-link.bloko-link_pseudo')\n",
    "pass_button[1].click()"
   ]
  },
  {
   "cell_type": "code",
   "execution_count": 74,
   "metadata": {},
   "outputs": [
    {
     "name": "stdout",
     "output_type": "stream",
     "text": [
      "4\n"
     ]
    }
   ],
   "source": [
    "search = driver.find_elements(By.CLASS_NAME, 'bloko-input-text')\n",
    "print(len(search))\n",
    "search[1].send_keys('rabotastar1@gmail.com')\n",
    "search[2].send_keys('199225199225')"
   ]
  },
  {
   "cell_type": "code",
   "execution_count": 76,
   "metadata": {},
   "outputs": [],
   "source": [
    "search[2].send_keys(Keys.ENTER)"
   ]
  },
  {
   "cell_type": "code",
   "execution_count": 77,
   "metadata": {},
   "outputs": [],
   "source": [
    "driver.get('https://hh.ru/applicant/vacancy_response?vacancyId=85928412')"
   ]
  },
  {
   "cell_type": "code",
   "execution_count": 78,
   "metadata": {},
   "outputs": [],
   "source": [
    "driver.get('https://hh.ru/applicant/vacancy_response?vacancyId=85969320')"
   ]
  },
  {
   "cell_type": "markdown",
   "metadata": {},
   "source": [
    "Закончился Селениум, начинается Pandas"
   ]
  },
  {
   "cell_type": "code",
   "execution_count": 20,
   "metadata": {},
   "outputs": [],
   "source": [
    "import pandas as pd"
   ]
  },
  {
   "cell_type": "code",
   "execution_count": 21,
   "metadata": {},
   "outputs": [],
   "source": [
    "df = pd.read_excel('main (9).xlsx')"
   ]
  },
  {
   "cell_type": "code",
   "execution_count": 24,
   "metadata": {},
   "outputs": [
    {
     "data": {
      "text/html": [
       "<div>\n",
       "<style scoped>\n",
       "    .dataframe tbody tr th:only-of-type {\n",
       "        vertical-align: middle;\n",
       "    }\n",
       "\n",
       "    .dataframe tbody tr th {\n",
       "        vertical-align: top;\n",
       "    }\n",
       "\n",
       "    .dataframe thead th {\n",
       "        text-align: right;\n",
       "    }\n",
       "</style>\n",
       "<table border=\"1\" class=\"dataframe\">\n",
       "  <thead>\n",
       "    <tr style=\"text-align: right;\">\n",
       "      <th></th>\n",
       "      <th>Unnamed: 0</th>\n",
       "      <th>id</th>\n",
       "      <th>premium</th>\n",
       "      <th>name</th>\n",
       "      <th>has_test</th>\n",
       "      <th>response_letter_required</th>\n",
       "      <th>response_url</th>\n",
       "      <th>sort_point_distance</th>\n",
       "      <th>published_at</th>\n",
       "      <th>created_at</th>\n",
       "      <th>...</th>\n",
       "      <th>address_metro_line_id</th>\n",
       "      <th>address_metro_lat</th>\n",
       "      <th>address_metro_lng</th>\n",
       "      <th>employer_logo_urls_None</th>\n",
       "      <th>employer_logo_urls_original</th>\n",
       "      <th>employer_logo_urls_90</th>\n",
       "      <th>employer_logo_urls_240</th>\n",
       "      <th>employer_logo_urls_nan</th>\n",
       "      <th>address_metro_stations_None</th>\n",
       "      <th>address_metro_stations_nan</th>\n",
       "    </tr>\n",
       "  </thead>\n",
       "  <tbody>\n",
       "    <tr>\n",
       "      <th>0</th>\n",
       "      <td>0</td>\n",
       "      <td>85928412</td>\n",
       "      <td>False</td>\n",
       "      <td>Старший финансовый аналитик / Senior financial...</td>\n",
       "      <td>False</td>\n",
       "      <td>False</td>\n",
       "      <td>NaN</td>\n",
       "      <td>NaN</td>\n",
       "      <td>2023-08-29T10:09:31+0300</td>\n",
       "      <td>2023-08-29T10:09:31+0300</td>\n",
       "      <td>...</td>\n",
       "      <td>NaN</td>\n",
       "      <td>NaN</td>\n",
       "      <td>NaN</td>\n",
       "      <td>False</td>\n",
       "      <td>https://hhcdn.ru/employer-logo-original/999319...</td>\n",
       "      <td>https://hhcdn.ru/employer-logo/5618064.png</td>\n",
       "      <td>https://hhcdn.ru/employer-logo/5618065.png</td>\n",
       "      <td>NaN</td>\n",
       "      <td>True</td>\n",
       "      <td>NaN</td>\n",
       "    </tr>\n",
       "    <tr>\n",
       "      <th>1</th>\n",
       "      <td>1</td>\n",
       "      <td>85969320</td>\n",
       "      <td>False</td>\n",
       "      <td>Аналитик экономической безопасности</td>\n",
       "      <td>False</td>\n",
       "      <td>False</td>\n",
       "      <td>NaN</td>\n",
       "      <td>NaN</td>\n",
       "      <td>2023-08-29T18:43:17+0300</td>\n",
       "      <td>2023-08-29T18:43:17+0300</td>\n",
       "      <td>...</td>\n",
       "      <td>NaN</td>\n",
       "      <td>NaN</td>\n",
       "      <td>NaN</td>\n",
       "      <td>True</td>\n",
       "      <td>NaN</td>\n",
       "      <td>NaN</td>\n",
       "      <td>NaN</td>\n",
       "      <td>NaN</td>\n",
       "      <td>True</td>\n",
       "      <td>NaN</td>\n",
       "    </tr>\n",
       "    <tr>\n",
       "      <th>2</th>\n",
       "      <td>2</td>\n",
       "      <td>85931286</td>\n",
       "      <td>False</td>\n",
       "      <td>Аналитик-стажер</td>\n",
       "      <td>False</td>\n",
       "      <td>False</td>\n",
       "      <td>NaN</td>\n",
       "      <td>NaN</td>\n",
       "      <td>2023-08-29T10:38:22+0300</td>\n",
       "      <td>2023-08-29T10:38:22+0300</td>\n",
       "      <td>...</td>\n",
       "      <td>NaN</td>\n",
       "      <td>NaN</td>\n",
       "      <td>NaN</td>\n",
       "      <td>False</td>\n",
       "      <td>https://hhcdn.ru/employer-logo-original/842082...</td>\n",
       "      <td>https://hhcdn.ru/employer-logo/3809203.png</td>\n",
       "      <td>https://hhcdn.ru/employer-logo/3809204.png</td>\n",
       "      <td>NaN</td>\n",
       "      <td>False</td>\n",
       "      <td>NaN</td>\n",
       "    </tr>\n",
       "    <tr>\n",
       "      <th>3</th>\n",
       "      <td>3</td>\n",
       "      <td>85644688</td>\n",
       "      <td>False</td>\n",
       "      <td>Дата-аналитик</td>\n",
       "      <td>True</td>\n",
       "      <td>False</td>\n",
       "      <td>NaN</td>\n",
       "      <td>NaN</td>\n",
       "      <td>2023-08-29T14:33:20+0300</td>\n",
       "      <td>2023-08-29T14:33:20+0300</td>\n",
       "      <td>...</td>\n",
       "      <td>NaN</td>\n",
       "      <td>NaN</td>\n",
       "      <td>NaN</td>\n",
       "      <td>False</td>\n",
       "      <td>https://hhcdn.ru/employer-logo-original/108288...</td>\n",
       "      <td>https://hhcdn.ru/employer-logo/5952173.jpeg</td>\n",
       "      <td>https://hhcdn.ru/employer-logo/5952174.jpeg</td>\n",
       "      <td>NaN</td>\n",
       "      <td>True</td>\n",
       "      <td>NaN</td>\n",
       "    </tr>\n",
       "    <tr>\n",
       "      <th>4</th>\n",
       "      <td>4</td>\n",
       "      <td>85925310</td>\n",
       "      <td>False</td>\n",
       "      <td>Аналитик</td>\n",
       "      <td>False</td>\n",
       "      <td>False</td>\n",
       "      <td>NaN</td>\n",
       "      <td>NaN</td>\n",
       "      <td>2023-08-29T09:42:35+0300</td>\n",
       "      <td>2023-08-29T09:42:35+0300</td>\n",
       "      <td>...</td>\n",
       "      <td>NaN</td>\n",
       "      <td>NaN</td>\n",
       "      <td>NaN</td>\n",
       "      <td>False</td>\n",
       "      <td>https://hhcdn.ru/employer-logo-original/727729...</td>\n",
       "      <td>https://hhcdn.ru/employer-logo/3352000.png</td>\n",
       "      <td>https://hhcdn.ru/employer-logo/3352001.png</td>\n",
       "      <td>NaN</td>\n",
       "      <td>False</td>\n",
       "      <td>NaN</td>\n",
       "    </tr>\n",
       "  </tbody>\n",
       "</table>\n",
       "<p>5 rows × 98 columns</p>\n",
       "</div>"
      ],
      "text/plain": [
       "   Unnamed: 0        id  premium  \\\n",
       "0           0  85928412    False   \n",
       "1           1  85969320    False   \n",
       "2           2  85931286    False   \n",
       "3           3  85644688    False   \n",
       "4           4  85925310    False   \n",
       "\n",
       "                                                name  has_test  \\\n",
       "0  Старший финансовый аналитик / Senior financial...     False   \n",
       "1                Аналитик экономической безопасности     False   \n",
       "2                                    Аналитик-стажер     False   \n",
       "3                                      Дата-аналитик      True   \n",
       "4                                           Аналитик     False   \n",
       "\n",
       "   response_letter_required  response_url  sort_point_distance  \\\n",
       "0                     False           NaN                  NaN   \n",
       "1                     False           NaN                  NaN   \n",
       "2                     False           NaN                  NaN   \n",
       "3                     False           NaN                  NaN   \n",
       "4                     False           NaN                  NaN   \n",
       "\n",
       "               published_at                created_at  ...  \\\n",
       "0  2023-08-29T10:09:31+0300  2023-08-29T10:09:31+0300  ...   \n",
       "1  2023-08-29T18:43:17+0300  2023-08-29T18:43:17+0300  ...   \n",
       "2  2023-08-29T10:38:22+0300  2023-08-29T10:38:22+0300  ...   \n",
       "3  2023-08-29T14:33:20+0300  2023-08-29T14:33:20+0300  ...   \n",
       "4  2023-08-29T09:42:35+0300  2023-08-29T09:42:35+0300  ...   \n",
       "\n",
       "   address_metro_line_id address_metro_lat  address_metro_lng  \\\n",
       "0                    NaN               NaN                NaN   \n",
       "1                    NaN               NaN                NaN   \n",
       "2                    NaN               NaN                NaN   \n",
       "3                    NaN               NaN                NaN   \n",
       "4                    NaN               NaN                NaN   \n",
       "\n",
       "  employer_logo_urls_None                        employer_logo_urls_original  \\\n",
       "0                   False  https://hhcdn.ru/employer-logo-original/999319...   \n",
       "1                    True                                                NaN   \n",
       "2                   False  https://hhcdn.ru/employer-logo-original/842082...   \n",
       "3                   False  https://hhcdn.ru/employer-logo-original/108288...   \n",
       "4                   False  https://hhcdn.ru/employer-logo-original/727729...   \n",
       "\n",
       "                         employer_logo_urls_90  \\\n",
       "0   https://hhcdn.ru/employer-logo/5618064.png   \n",
       "1                                          NaN   \n",
       "2   https://hhcdn.ru/employer-logo/3809203.png   \n",
       "3  https://hhcdn.ru/employer-logo/5952173.jpeg   \n",
       "4   https://hhcdn.ru/employer-logo/3352000.png   \n",
       "\n",
       "                        employer_logo_urls_240  employer_logo_urls_nan  \\\n",
       "0   https://hhcdn.ru/employer-logo/5618065.png                     NaN   \n",
       "1                                          NaN                     NaN   \n",
       "2   https://hhcdn.ru/employer-logo/3809204.png                     NaN   \n",
       "3  https://hhcdn.ru/employer-logo/5952174.jpeg                     NaN   \n",
       "4   https://hhcdn.ru/employer-logo/3352001.png                     NaN   \n",
       "\n",
       "   address_metro_stations_None  address_metro_stations_nan  \n",
       "0                         True                         NaN  \n",
       "1                         True                         NaN  \n",
       "2                        False                         NaN  \n",
       "3                         True                         NaN  \n",
       "4                        False                         NaN  \n",
       "\n",
       "[5 rows x 98 columns]"
      ]
     },
     "execution_count": 24,
     "metadata": {},
     "output_type": "execute_result"
    }
   ],
   "source": [
    "df.head(5)"
   ]
  },
  {
   "cell_type": "code",
   "execution_count": 26,
   "metadata": {},
   "outputs": [
    {
     "data": {
      "text/plain": [
       "107"
      ]
     },
     "execution_count": 26,
     "metadata": {},
     "output_type": "execute_result"
    }
   ],
   "source": [
    "filtered_df = df['salary_from'] > 100000\n",
    "len(filtered_df)"
   ]
  }
 ],
 "metadata": {
  "kernelspec": {
   "display_name": "Python 3",
   "language": "python",
   "name": "python3"
  },
  "language_info": {
   "codemirror_mode": {
    "name": "ipython",
    "version": 3
   },
   "file_extension": ".py",
   "mimetype": "text/x-python",
   "name": "python",
   "nbconvert_exporter": "python",
   "pygments_lexer": "ipython3",
   "version": "3.11.1"
  },
  "orig_nbformat": 4
 },
 "nbformat": 4,
 "nbformat_minor": 2
}
